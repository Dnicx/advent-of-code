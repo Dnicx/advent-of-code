{
  "cells": [
    {
      "cell_type": "code",
      "execution_count": null,
      "metadata": {
        "colab": {
          "base_uri": "https://localhost:8080/"
        },
        "id": "Q8RNzbCzWNiN",
        "outputId": "f892c8c5-9221-46c0-b40e-acc4163131ad"
      },
      "outputs": [],
      "source": [
        "a = input()"
      ]
    },
    {
      "cell_type": "code",
      "execution_count": null,
      "metadata": {
        "colab": {
          "base_uri": "https://localhost:8080/"
        },
        "id": "kKZ3TL_uZH-j",
        "outputId": "3464296c-f4e0-4a0a-9aee-6c7633de4814"
      },
      "outputs": [],
      "source": [
        "b = a.split('  ')\n",
        "print( len( b ) )"
      ]
    },
    {
      "cell_type": "code",
      "execution_count": null,
      "metadata": {
        "id": "lFuXR43OZZas"
      },
      "outputs": [],
      "source": [
        "c = []\n",
        "mx = 0\n",
        "for x in b:\n",
        "    c = x.split(' ')\n",
        "    sm = 0\n",
        "    for y in c:\n",
        "        sm += int( y )\n",
        "    mx = max( sm, mx )\n"
      ]
    },
    {
      "cell_type": "code",
      "execution_count": null,
      "metadata": {
        "colab": {
          "base_uri": "https://localhost:8080/"
        },
        "id": "Dp6I6RBMboWl",
        "outputId": "1f83edeb-04c4-49fc-d85d-37d114a405d6"
      },
      "outputs": [],
      "source": [
        "print( mx )"
      ]
    }
  ],
  "metadata": {
    "colab": {
      "provenance": []
    },
    "kernelspec": {
      "display_name": "Python 3.10.8 64-bit (microsoft store)",
      "language": "python",
      "name": "python3"
    },
    "language_info": {
      "name": "python",
      "version": "3.10.8"
    },
    "vscode": {
      "interpreter": {
        "hash": "f9107be5baa3f10454b8ecaf1b38e9a3e16a2f3058a88dd72351e99f690ba0a7"
      }
    }
  },
  "nbformat": 4,
  "nbformat_minor": 0
}
