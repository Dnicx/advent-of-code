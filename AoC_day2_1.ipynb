{
 "cells": [
  {
   "cell_type": "code",
   "execution_count": null,
   "metadata": {},
   "outputs": [],
   "source": [
    "scoreMap = { 'X':1, 'Y':2, 'Z':3 }\n",
    "winMap = { 'A': {\n",
    "                'X' : 3,\n",
    "                'Y' : 6,\n",
    "                'Z' : 0,\n",
    "                },\n",
    "            'B': {\n",
    "                'X' : 0,\n",
    "                'Y' : 3,\n",
    "                'Z' : 6,\n",
    "                },\n",
    "            'C': {\n",
    "                'X' : 6,\n",
    "                'Y' : 0,\n",
    "                'Z' : 3,\n",
    "            }\n",
    "        }"
   ]
  },
  {
   "cell_type": "code",
   "execution_count": null,
   "metadata": {},
   "outputs": [],
   "source": [
    "a = input().split(' ')\n",
    "b = [ ( a[i], a[i+1] ) for i in range( 0, len( a ), 2 ) ]\n",
    "print( len( b ) )"
   ]
  },
  {
   "cell_type": "code",
   "execution_count": null,
   "metadata": {},
   "outputs": [],
   "source": [
    "score = 0\n",
    "for enemy, you in b:\n",
    "    score += scoreMap[ you ]\n",
    "    score += winMap[enemy][you]"
   ]
  },
  {
   "cell_type": "code",
   "execution_count": null,
   "metadata": {},
   "outputs": [],
   "source": [
    "print( score )"
   ]
  }
 ],
 "metadata": {
  "kernelspec": {
   "display_name": "Python 3.10.8 64-bit (microsoft store)",
   "language": "python",
   "name": "python3"
  },
  "language_info": {
   "codemirror_mode": {
    "name": "ipython",
    "version": 3
   },
   "file_extension": ".py",
   "mimetype": "text/x-python",
   "name": "python",
   "nbconvert_exporter": "python",
   "pygments_lexer": "ipython3",
   "version": "3.10.8"
  },
  "orig_nbformat": 4,
  "vscode": {
   "interpreter": {
    "hash": "f9107be5baa3f10454b8ecaf1b38e9a3e16a2f3058a88dd72351e99f690ba0a7"
   }
  }
 },
 "nbformat": 4,
 "nbformat_minor": 2
}
